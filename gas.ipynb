{
 "cells": [
  {
   "cell_type": "code",
   "execution_count": 2,
   "metadata": {},
   "outputs": [],
   "source": [
    "from bs4 import BeautifulSoup\n",
    "import time\n",
    "import datetime\n",
    "import os\n",
    "import requests\n"
   ]
  },
  {
   "cell_type": "code",
   "execution_count": 3,
   "metadata": {},
   "outputs": [],
   "source": [
    "url = 'https://www.google.com/search?q=circle+k+near+me&sca_esv=03932fef72e18384&rlz=1C1VDKB_enUS1132US1132&sxsrf=ADLYWILybB_g9BkzFIgIvhM1x9kvC2AauA%3A1735348513452&ei=IVFvZ72gG9aSwbkPqZm7-Qw&ved=0ahUKEwj9tNL9pMmKAxVWSTABHanMLs8Q4dUDCBA&uact=5&oq=circle+k+near+me&gs_lp=Egxnd3Mtd2l6LXNlcnAiEGNpcmNsZSBrIG5lYXIgbWUyChAAGIAEGEMYigUyCxAAGIAEGLEDGMkDMgsQABiABBiSAxiKBTILEAAYgAQYkgMYigUyChAAGIAEGEMYigUyBRAAGIAEMgUQABiABDIFEAAYgAQyBRAAGIAEMgUQABiABEiDD1AAWJwOcAB4AZABAJgBgwGgAbsLqgEEMTEuNbgBA8gBAPgBAZgCEKAC3QvCAgoQIxiABBgnGIoFwgITEC4YgAQYQxjHARiKBRiOBRivAcICExAuGIAEGLEDGNEDGEMYxwEYigXCAhAQLhiABBjRAxhDGMcBGIoFwgINEAAYgAQYsQMYFBiHAsICChAAGIAEGBQYhwLCAg0QABiABBhDGMkDGIoFwgIOEC4YgAQYxwEYjgUYrwHCAhQQLhiABBixAxiDARjHARiOBRivAcICDRAAGIAEGLEDGEMYigXCAggQABiABBixA5gDAJIHBDEwLjagB7eRAQ&sclient=gws-wiz-serp&lqi=ChBjaXJjbGUgayBuZWFyIG1lIgaIAQGQAQFI5-r0mLKygIAIWiYQABABGAAYARgCGAMiEGNpcmNsZSBrIG5lYXIgbWUqBggCEAAQAZIBC2dhc19zdGF0aW9uqgFSCgkvbS8wMXh6OXYQASoMIghjaXJjbGUgaygAMh8QASIbJ77KWV3hI66ezRClErrZdDoWpqsS2--w_pNbMhQQAiIQY2lyY2xlIGsgbmVhciBtZeABAA#rlimm=13488336039255124010'\n",
    "page = requests.get(url)\n",
    "if page.status_code == 200:\n",
    "    soup = BeautifulSoup(page.content, \"html.parser\")"
   ]
  },
  {
   "cell_type": "code",
   "execution_count": 23,
   "metadata": {},
   "outputs": [],
   "source": [
    "section = soup.find(class_ = \"YNk70c\")"
   ]
  },
  {
   "cell_type": "code",
   "execution_count": 24,
   "metadata": {},
   "outputs": [],
   "source": [
    "section"
   ]
  }
 ],
 "metadata": {
  "kernelspec": {
   "display_name": "Python 3",
   "language": "python",
   "name": "python3"
  },
  "language_info": {
   "codemirror_mode": {
    "name": "ipython",
    "version": 3
   },
   "file_extension": ".py",
   "mimetype": "text/x-python",
   "name": "python",
   "nbconvert_exporter": "python",
   "pygments_lexer": "ipython3",
   "version": "3.13.0"
  }
 },
 "nbformat": 4,
 "nbformat_minor": 2
}
