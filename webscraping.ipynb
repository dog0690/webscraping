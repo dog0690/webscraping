{
 "cells": [
  {
   "cell_type": "code",
   "execution_count": 124,
   "metadata": {},
   "outputs": [],
   "source": [
    "from bs4 import BeautifulSoup\n",
    "import requests\n",
    "\n",
    "url = ('https://finance.yahoo.com/markets/crypto/active/')"
   ]
  },
  {
   "cell_type": "code",
   "execution_count": null,
   "metadata": {},
   "outputs": [],
   "source": []
  },
  {
   "cell_type": "code",
   "execution_count": 125,
   "metadata": {},
   "outputs": [],
   "source": [
    "page = requests.get(url)\n",
    "if page.status_code == 200:\n",
    "    soup = BeautifulSoup(page.content, \"html.parser\")\n",
    "table = soup.find(class_ = \"body yf-paf8n5\")"
   ]
  },
  {
   "cell_type": "code",
   "execution_count": 126,
   "metadata": {},
   "outputs": [],
   "source": [
    "#crypto =table.find_all(\"td\", class_ = \"cell tw-h-10 tw-py-0 yf-paf8n5\")[0]\n",
    "#crypto"
   ]
  },
  {
   "cell_type": "code",
   "execution_count": 127,
   "metadata": {},
   "outputs": [
    {
     "data": {
      "text/plain": [
       "<tr class=\"row false yf-paf8n5\" id=\"0\"><td class=\"cell tw-h-10 tw-py-0 yf-paf8n5\"><span class=\"yf-paf8n5\"><div style=\"display: contents; --background-color:transparent; --hover-bg-color:transparent; --hover-color:var(--enabled-active-emph); --text-color:var(--enabled-active-emph); --hover-focus-color:var(--hovered-emph-same); --text-decoration:underline;\"><a aria-label=\"Bitcoin USD\" class=\"ticker small tw-text-md hover logo stacked yf-1m808gl\" data-testid=\"table-cell-ticker\" data-ylk=\"elm:qte;elmt:link;itc:0;sec:crypto-datatable;slk:BTC-USD;subsec:all\" href=\"/quote/BTC-USD/\" title=\"Bitcoin USD\"><img alt=\"BTC-USD\" aria-hidden=\"true\" class=\"yf-1m808gl logo stacked\" loading=\"lazy\" src=\"https://s2.coinmarketcap.com/static/img/coins/64x64/1.png\"/> <div class=\"name yf-1m808gl stacked\"> <span class=\"symbol yf-1m808gl\">BTC-USD </span> </div> </a></div></span> </td><td class=\"cell tw-h-10 tw-py-0 tw-text-left yf-paf8n5\"><span class=\"yf-paf8n5\"><div class=\"yf-h8l7j7\" title=\"Bitcoin USD\">Bitcoin USD </div></span> </td><td class=\"cell tw-h-10 tw-py-0 yf-paf8n5\"><span class=\"yf-paf8n5\"><div class=\"yf-5aq78w expandWidth\"><a aria-label=\"Advanced Chart\" class=\"none-link fin-size-small yf-1e4diqp\" data-ylk=\"elm:chart;elmt:link;itc:0;sec:crypto-datatable;slk:BTC-USD;subsec:all\" href=\"/chart/BTC-USD\"><figure class=\"yf-qqbabn\" data-testid=\"sparkline\"><canvas aria-label=\"BTC-USD chart\" class=\"yf-qqbabn\"></canvas></figure> </a> </div></span> </td><td class=\"cell tw-h-10 tw-py-0 yf-paf8n5\"><span class=\"yf-paf8n5\"> <fin-streamer active=\"\" data-field=\"regularMarketPrice\" data-pricehint=\"2\" data-symbol=\"BTC-USD\" data-test=\"change\" data-trend=\"none\" data-value=\"96810.95\">96,810.95</fin-streamer> <div class=\"hide-desktop hide-mw txt-positive\"><fin-streamer active=\"\" data-field=\"regularMarketChange\" data-pricehint=\"2\" data-symbol=\"BTC-USD\" data-test=\"colorChange\" data-trend=\"txt\" data-value=\"617.8594\">+617.86</fin-streamer> <fin-streamer active=\"\" data-field=\"regularMarketChangePercent\" data-pricehint=\"2\" data-symbol=\"BTC-USD\" data-template=\"({fmt})\" data-test=\"colorChange\" data-trend=\"txt\" data-value=\"0.6423089\">(+0.64%)</fin-streamer></div></span> </td><td class=\"cell tw-h-10 tw-py-0 yf-paf8n5\"><span class=\"yf-paf8n5\"> <fin-streamer active=\"\" data-field=\"regularMarketChange\" data-pricehint=\"2\" data-symbol=\"BTC-USD\" data-test=\"colorChange\" data-trend=\"txt\" data-tstyle=\"default\" data-value=\"617.8594\"><span class=\"txt-positive\">+617.86</span></fin-streamer></span> </td><td class=\"cell tw-h-10 tw-py-0 yf-paf8n5\"><span class=\"yf-paf8n5\"> <fin-streamer active=\"\" data-field=\"regularMarketChangePercent\" data-pricehint=\"2\" data-symbol=\"BTC-USD\" data-test=\"colorChange\" data-trend=\"txt\" data-tstyle=\"default\" data-value=\"0.6423089\"><span class=\"txt-positive\">+0.64%</span></fin-streamer></span> </td><td class=\"cell tw-h-10 tw-py-0 yf-paf8n5\"><span class=\"yf-paf8n5\"> <fin-streamer active=\"\" data-field=\"marketCap\" data-pricehint=\"2\" data-symbol=\"BTC-USD\" data-test=\"change\" data-trend=\"none\" data-value=\"1915802091520\">1.916T</fin-streamer></span> </td><td class=\"cell tw-h-10 tw-py-0 yf-paf8n5\"><span class=\"yf-paf8n5\"> <fin-streamer active=\"\" data-field=\"regularMarketVolume\" data-pricehint=\"2\" data-symbol=\"BTC-USD\" data-test=\"change\" data-trend=\"none\" data-value=\"54528544768\">54.529B</fin-streamer></span> </td><td class=\"cell tw-h-10 tw-py-0 yf-paf8n5\"><span class=\"yf-paf8n5\">54.529B</span> </td><td class=\"cell tw-h-10 tw-py-0 yf-paf8n5\"><span class=\"yf-paf8n5\">54.529B</span> </td><td class=\"cell tw-h-10 tw-py-0 yf-paf8n5\"><span class=\"yf-paf8n5\">19.789M</span> </td><td class=\"cell tw-h-10 tw-py-0 yf-paf8n5\"><span class=\"yf-paf8n5\">142.30%</span> </td><td class=\"cell tw-h-10 tw-py-0 yf-paf8n5\"><span class=\"yf-paf8n5\"><canvas class=\"yf-2mvkrb\"></canvas></span> </td></tr>"
      ]
     },
     "execution_count": 127,
     "metadata": {},
     "output_type": "execute_result"
    }
   ],
   "source": [
    "crypto = table.find(\"tr\", class_=\"row false yf-paf8n5\", id=0)\n",
    "crypto"
   ]
  },
  {
   "cell_type": "code",
   "execution_count": 128,
   "metadata": {},
   "outputs": [
    {
     "data": {
      "text/plain": [
       "<td class=\"cell tw-h-10 tw-py-0 yf-paf8n5\"><span class=\"yf-paf8n5\"> <fin-streamer active=\"\" data-field=\"regularMarketChangePercent\" data-pricehint=\"2\" data-symbol=\"BTC-USD\" data-test=\"colorChange\" data-trend=\"txt\" data-tstyle=\"default\" data-value=\"0.6423089\"><span class=\"txt-positive\">+0.64%</span></fin-streamer></span> </td>"
      ]
     },
     "execution_count": 128,
     "metadata": {},
     "output_type": "execute_result"
    }
   ],
   "source": [
    "crypto_percent_change = crypto.find_all(\"td\", class_ = \"cell tw-h-10 tw-py-0 yf-paf8n5\")[4]\n",
    "crypto_percent_change"
   ]
  },
  {
   "cell_type": "code",
   "execution_count": 129,
   "metadata": {},
   "outputs": [
    {
     "data": {
      "text/plain": [
       "<span class=\"txt-positive\">+0.64%</span>"
      ]
     },
     "execution_count": 129,
     "metadata": {},
     "output_type": "execute_result"
    }
   ],
   "source": [
    "price = crypto_percent_change.find(class_  = \"txt-positive\")\n",
    "price"
   ]
  },
  {
   "cell_type": "code",
   "execution_count": 130,
   "metadata": {},
   "outputs": [],
   "source": [
    "#value = str(price.string)\n",
    "#value2 = value.replace(\"%\",\"\")\n",
    "#value3 = float(value2)\n",
    "#value3\n"
   ]
  },
  {
   "cell_type": "code",
   "execution_count": 131,
   "metadata": {},
   "outputs": [
    {
     "data": {
      "text/plain": [
       "<span class=\"txt-positive\">+0.64%</span>"
      ]
     },
     "execution_count": 131,
     "metadata": {},
     "output_type": "execute_result"
    }
   ],
   "source": [
    "crypto_percent_change.find(\"span\", class_ = \"txt-positive\")"
   ]
  },
  {
   "cell_type": "code",
   "execution_count": 132,
   "metadata": {},
   "outputs": [
    {
     "data": {
      "text/plain": [
       "<span class=\"txt-positive\">+0.64%</span>"
      ]
     },
     "execution_count": 132,
     "metadata": {},
     "output_type": "execute_result"
    }
   ],
   "source": [
    "span = crypto_percent_change.find_all(\"span\")[1]\n",
    "span"
   ]
  },
  {
   "cell_type": "code",
   "execution_count": 133,
   "metadata": {},
   "outputs": [
    {
     "data": {
      "text/plain": [
       "'txt-positive'"
      ]
     },
     "execution_count": 133,
     "metadata": {},
     "output_type": "execute_result"
    }
   ],
   "source": [
    "txt = str(span)\n",
    "txt2 = txt[13:25]\n",
    "txt2"
   ]
  },
  {
   "cell_type": "code",
   "execution_count": 134,
   "metadata": {},
   "outputs": [
    {
     "name": "stdout",
     "output_type": "stream",
     "text": [
      "<span class=\"txt-positive\">+0.64%</span>\n"
     ]
    }
   ],
   "source": [
    "def posneg(input):\n",
    "    if input == \"txt-positive\":\n",
    "        price = crypto_percent_change.find(class_  = \"txt-positive\")\n",
    "    else:\n",
    "        price = crypto_percent_change.find(class_  = \"txt-negative\")\n",
    "    return(price)\n",
    "print(posneg(txt2))"
   ]
  },
  {
   "cell_type": "code",
   "execution_count": 135,
   "metadata": {},
   "outputs": [
    {
     "data": {
      "text/plain": [
       "'Bitcoin USD '"
      ]
     },
     "execution_count": 135,
     "metadata": {},
     "output_type": "execute_result"
    }
   ],
   "source": [
    "name = crypto.find(\"td\", class_ = \"cell tw-h-10 tw-py-0 tw-text-left yf-paf8n5\")\n",
    "coin = name.find(\"div\", class_ = \"yf-h8l7j7\").string\n",
    "coin"
   ]
  }
 ],
 "metadata": {
  "kernelspec": {
   "display_name": "Python 3",
   "language": "python",
   "name": "python3"
  },
  "language_info": {
   "codemirror_mode": {
    "name": "ipython",
    "version": 3
   },
   "file_extension": ".py",
   "mimetype": "text/x-python",
   "name": "python",
   "nbconvert_exporter": "python",
   "pygments_lexer": "ipython3",
   "version": "3.13.0"
  }
 },
 "nbformat": 4,
 "nbformat_minor": 2
}
